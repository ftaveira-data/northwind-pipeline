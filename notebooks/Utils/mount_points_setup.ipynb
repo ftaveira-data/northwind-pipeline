# Configurações
storage_account_name = "northwinddatalake"  # Nome da conta de armazenamento
storage_account_key = os.getenv('STORAGE_ACCOUNT_KEY', 'default_value')
container_name = "data"  # Nome do contêiner
mount_point = "/mnt/data"  # Nome do ponto de montagem no Databricks

# Desmontar o ponto, se já estiver montado (opcional)
try:
    dbutils.fs.unmount(mount_point)
    print(f"Ponto {mount_point} desmontado com sucesso.")
except:
    print(f"Ponto {mount_point} não estava montado.")

# Criar o ponto de montagem
dbutils.fs.mount(
    source=f"wasbs://{container_name}@{storage_account_name}.blob.core.windows.net",
    mount_point=mount_point,
    extra_configs={
        f"fs.azure.account.key.{storage_account_name}.blob.core.windows.net": storage_account_key
    }
)

print(f"Ponto de montagem configurado com sucesso em: {mount_point}")
